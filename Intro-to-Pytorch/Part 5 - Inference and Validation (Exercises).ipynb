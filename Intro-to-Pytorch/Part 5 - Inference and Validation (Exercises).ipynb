{
 "cells": [
  {
   "cell_type": "markdown",
   "metadata": {},
   "source": [
    "# Inference and Validation\n",
    "\n",
    "Now that you have a trained network, you can use it for making predictions. This is typically called **inference**, a term borrowed from statistics. However, neural networks have a tendency to perform *too well* on the training data and aren't able to generalize to data that hasn't been seen before. This is called **overfitting** and it impairs inference performance. To test for overfitting while training, we measure the performance on data not in the training set called the **validation** set. We avoid overfitting through regularization such as dropout while monitoring the validation performance during training. In this notebook, I'll show you how to do this in PyTorch. \n",
    "\n",
    "As usual, let's start by loading the dataset through torchvision. You'll learn more about torchvision and loading data in a later part. This time we'll be taking advantage of the test set which you can get by setting `train=False` here:\n",
    "\n",
    "```python\n",
    "testset = datasets.FashionMNIST('~/.pytorch/F_MNIST_data/', download=True, train=False, transform=transform)\n",
    "```\n",
    "\n",
    "The test set contains images just like the training set. Typically you'll see 10-20% of the original dataset held out for testing and validation with the rest being used for training."
   ]
  },
  {
   "cell_type": "code",
   "execution_count": 1,
   "metadata": {},
   "outputs": [],
   "source": [
    "import torch\n",
    "from torchvision import datasets, transforms\n",
    "\n",
    "# Define a transform to normalize the data\n",
    "transform = transforms.Compose([transforms.ToTensor(),\n",
    "                                transforms.Normalize((0.5,), (0.5,))])\n",
    "# Download and load the training data\n",
    "trainset = datasets.FashionMNIST('~/.pytorch/F_MNIST_data/', download=True, train=True, transform=transform)\n",
    "trainloader = torch.utils.data.DataLoader(trainset, batch_size=64, shuffle=True)\n",
    "\n",
    "# Download and load the test data\n",
    "testset = datasets.FashionMNIST('~/.pytorch/F_MNIST_data/', download=True, train=False, transform=transform)\n",
    "testloader = torch.utils.data.DataLoader(testset, batch_size=64, shuffle=True)"
   ]
  },
  {
   "cell_type": "markdown",
   "metadata": {},
   "source": [
    "Here I'll create a model like normal, using the same one from my solution for part 4."
   ]
  },
  {
   "cell_type": "code",
   "execution_count": 2,
   "metadata": {},
   "outputs": [],
   "source": [
    "from torch import nn, optim\n",
    "import torch.nn.functional as F\n",
    "\n",
    "class Classifier(nn.Module):\n",
    "    def __init__(self):\n",
    "        super().__init__()\n",
    "        self.fc1 = nn.Linear(784, 256)\n",
    "        self.fc2 = nn.Linear(256, 128)\n",
    "        self.fc3 = nn.Linear(128, 64)\n",
    "        self.fc4 = nn.Linear(64, 10)\n",
    "        \n",
    "    def forward(self, x):\n",
    "        # make sure input tensor is flattened\n",
    "        x = x.view(x.shape[0], -1)\n",
    "        \n",
    "        x = F.relu(self.fc1(x))\n",
    "        x = F.relu(self.fc2(x))\n",
    "        x = F.relu(self.fc3(x))\n",
    "        x = F.log_softmax(self.fc4(x), dim=1)\n",
    "        \n",
    "        return x"
   ]
  },
  {
   "cell_type": "markdown",
   "metadata": {},
   "source": [
    "The goal of validation is to measure the model's performance on data that isn't part of the training set. Performance here is up to the developer to define though. Typically this is just accuracy, the percentage of classes the network predicted correctly. Other options are [precision and recall](https://en.wikipedia.org/wiki/Precision_and_recall#Definition_(classification_context)) and top-5 error rate. We'll focus on accuracy here. First I'll do a forward pass with one batch from the test set."
   ]
  },
  {
   "cell_type": "code",
   "execution_count": 3,
   "metadata": {},
   "outputs": [
    {
     "name": "stdout",
     "output_type": "stream",
     "text": [
      "torch.Size([64, 10])\n"
     ]
    }
   ],
   "source": [
    "model = Classifier()\n",
    "\n",
    "images, labels = next(iter(testloader))\n",
    "# Get the class probabilities\n",
    "ps = torch.exp(model(images))\n",
    "# Make sure the shape is appropriate, we should get 10 class probabilities for 64 examples\n",
    "print(ps.shape)"
   ]
  },
  {
   "cell_type": "markdown",
   "metadata": {},
   "source": [
    "With the probabilities, we can get the most likely class using the `ps.topk` method. This returns the $k$ highest values. Since we just want the most likely class, we can use `ps.topk(1)`. This returns a tuple of the top-$k$ values and the top-$k$ indices. If the highest value is the fifth element, we'll get back 4 as the index."
   ]
  },
  {
   "cell_type": "code",
   "execution_count": 4,
   "metadata": {},
   "outputs": [
    {
     "name": "stdout",
     "output_type": "stream",
     "text": [
      "tensor([[1],\n",
      "        [1],\n",
      "        [1],\n",
      "        [1],\n",
      "        [1],\n",
      "        [1],\n",
      "        [1],\n",
      "        [1],\n",
      "        [1],\n",
      "        [1]])\n"
     ]
    }
   ],
   "source": [
    "top_p, top_class = ps.topk(1, dim=1)\n",
    "# Look at the most likely classes for the first 10 examples\n",
    "print(top_class[:10,:])"
   ]
  },
  {
   "cell_type": "markdown",
   "metadata": {},
   "source": [
    "Now we can check if the predicted classes match the labels. This is simple to do by equating `top_class` and `labels`, but we have to be careful of the shapes. Here `top_class` is a 2D tensor with shape `(64, 1)` while `labels` is 1D with shape `(64)`. To get the equality to work out the way we want, `top_class` and `labels` must have the same shape.\n",
    "\n",
    "If we do\n",
    "\n",
    "```python\n",
    "equals = top_class == labels\n",
    "```\n",
    "\n",
    "`equals` will have shape `(64, 64)`, try it yourself. What it's doing is comparing the one element in each row of `top_class` with each element in `labels` which returns 64 True/False boolean values for each row."
   ]
  },
  {
   "cell_type": "code",
   "execution_count": 5,
   "metadata": {},
   "outputs": [],
   "source": [
    "equals = top_class == labels.view(*top_class.shape)"
   ]
  },
  {
   "cell_type": "markdown",
   "metadata": {},
   "source": [
    "Now we need to calculate the percentage of correct predictions. `equals` has binary values, either 0 or 1. This means that if we just sum up all the values and divide by the number of values, we get the percentage of correct predictions. This is the same operation as taking the mean, so we can get the accuracy with a call to `torch.mean`. If only it was that simple. If you try `torch.mean(equals)`, you'll get an error\n",
    "\n",
    "```\n",
    "RuntimeError: mean is not implemented for type torch.ByteTensor\n",
    "```\n",
    "\n",
    "This happens because `equals` has type `torch.ByteTensor` but `torch.mean` isn't implemented for tensors with that type. So we'll need to convert `equals` to a float tensor. Note that when we take `torch.mean` it returns a scalar tensor, to get the actual value as a float we'll need to do `accuracy.item()`."
   ]
  },
  {
   "cell_type": "code",
   "execution_count": 6,
   "metadata": {},
   "outputs": [
    {
     "name": "stdout",
     "output_type": "stream",
     "text": [
      "Accuracy: 9.375%\n"
     ]
    }
   ],
   "source": [
    "accuracy = torch.mean(equals.type(torch.FloatTensor))\n",
    "print(f'Accuracy: {accuracy.item()*100}%')"
   ]
  },
  {
   "cell_type": "markdown",
   "metadata": {},
   "source": [
    "The network is untrained so it's making random guesses and we should see an accuracy around 10%. Now let's train our network and include our validation pass so we can measure how well the network is performing on the test set. Since we're not updating our parameters in the validation pass, we can speed up our code by turning off gradients using `torch.no_grad()`:\n",
    "\n",
    "```python\n",
    "# turn off gradients\n",
    "with torch.no_grad():\n",
    "    # validation pass here\n",
    "    for images, labels in testloader:\n",
    "        ...\n",
    "```\n",
    "\n",
    ">**Exercise:** Implement the validation loop below and print out the total accuracy after the loop. You can largely copy and paste the code from above, but I suggest typing it in because writing it out yourself is essential for building the skill. In general you'll always learn more by typing it rather than copy-pasting. You should be able to get an accuracy above 80%."
   ]
  },
  {
   "cell_type": "code",
   "execution_count": 7,
   "metadata": {
    "scrolled": true
   },
   "outputs": [
    {
     "name": "stdout",
     "output_type": "stream",
     "text": [
      "Training Accuracy: 80.79166412353516% , Validation Accuracy: 0.8428000211715698\n",
      "Training Accuracy: 85.72999572753906% , Validation Accuracy: 0.8622999787330627\n",
      "Training Accuracy: 87.05333709716797% , Validation Accuracy: 0.8611999750137329\n",
      "Training Accuracy: 87.94166564941406% , Validation Accuracy: 0.8603000044822693\n",
      "Training Accuracy: 88.53499603271484% , Validation Accuracy: 0.8536999821662903\n",
      "Training Accuracy: 89.09833526611328% , Validation Accuracy: 0.8690999746322632\n",
      "Training Accuracy: 89.43333435058594% , Validation Accuracy: 0.8733000159263611\n",
      "Training Accuracy: 89.72833251953125% , Validation Accuracy: 0.8733000159263611\n",
      "Training Accuracy: 89.99666595458984% , Validation Accuracy: 0.8672999739646912\n",
      "Training Accuracy: 90.22166442871094% , Validation Accuracy: 0.8698999881744385\n",
      "Training Accuracy: 90.3949966430664% , Validation Accuracy: 0.8672999739646912\n",
      "Training Accuracy: 90.60333251953125% , Validation Accuracy: 0.8722000122070312\n",
      "Training Accuracy: 90.94332885742188% , Validation Accuracy: 0.8791000247001648\n",
      "Training Accuracy: 91.07499694824219% , Validation Accuracy: 0.8769000172615051\n",
      "Training Accuracy: 91.11166381835938% , Validation Accuracy: 0.8784999847412109\n",
      "Training Accuracy: 91.4366683959961% , Validation Accuracy: 0.8804000020027161\n",
      "Training Accuracy: 91.66500091552734% , Validation Accuracy: 0.8852999806404114\n",
      "Training Accuracy: 91.65166473388672% , Validation Accuracy: 0.8763999938964844\n",
      "Training Accuracy: 91.9383316040039% , Validation Accuracy: 0.8774999976158142\n",
      "Training Accuracy: 92.33333587646484% , Validation Accuracy: 0.8799999952316284\n",
      "Training Accuracy: 92.32166290283203% , Validation Accuracy: 0.8769999742507935\n",
      "Training Accuracy: 92.46333312988281% , Validation Accuracy: 0.8849999904632568\n",
      "Training Accuracy: 92.37333679199219% , Validation Accuracy: 0.8816999793052673\n",
      "Training Accuracy: 92.79166412353516% , Validation Accuracy: 0.8804000020027161\n",
      "Training Accuracy: 92.57666778564453% , Validation Accuracy: 0.8759999871253967\n",
      "Training Accuracy: 92.89833068847656% , Validation Accuracy: 0.8826000094413757\n",
      "Training Accuracy: 92.83499908447266% , Validation Accuracy: 0.8878999948501587\n",
      "Training Accuracy: 93.0566635131836% , Validation Accuracy: 0.8840000033378601\n",
      "Training Accuracy: 93.16166687011719% , Validation Accuracy: 0.8847000002861023\n",
      "Training Accuracy: 93.30833435058594% , Validation Accuracy: 0.885699987411499\n"
     ]
    }
   ],
   "source": [
    "model = Classifier()\n",
    "criterion = nn.NLLLoss()\n",
    "optimizer = optim.Adam(model.parameters(), lr=0.003)\n",
    "\n",
    "epochs = 30\n",
    "steps = 0\n",
    "\n",
    "N = len(trainloader)\n",
    "\n",
    "train_losses, test_losses = [], []\n",
    "for e in range(epochs):\n",
    "    running_loss = 0\n",
    "    accuracy = 0\n",
    "    for images, labels in trainloader:\n",
    "        \n",
    "        optimizer.zero_grad()\n",
    "        \n",
    "        log_ps = model(images.view(images.shape[0],-1))\n",
    "        loss = criterion(log_ps, labels)\n",
    "        loss.backward()\n",
    "        optimizer.step()\n",
    "        \n",
    "        top_p, top_class = log_ps.topk(1, dim=1)\n",
    "        \n",
    "        running_loss += loss.item()\n",
    "        accuracy += torch.sum(top_class == labels.view(*top_class.shape))\n",
    "        #print('batch_size', len(images))\n",
    "        #print('sum',torch.sum(top_class == labels.view(*top_class.shape)))\n",
    "        #print('cumsum',accuracy)\n",
    "        \n",
    "    else:\n",
    "        ## TODO: Implement the validation pass and print out the validation accuracy\n",
    "        \n",
    "        with torch.no_grad():\n",
    "            val_accuracy = 0\n",
    "            for images, labels in testloader:\n",
    "                preds = model(images)\n",
    "                \n",
    "                possi, clas = preds.topk(1, dim=1)\n",
    "                \n",
    "                val_accuracy += torch.sum(clas == labels.view(*clas.shape))\n",
    "        \n",
    "        print(f'Training Accuracy: {accuracy*1./len(trainloader.dataset)*100}%',', Validation Accuracy: {}'.format(val_accuracy*1./len(testloader.dataset)))"
   ]
  },
  {
   "cell_type": "markdown",
   "metadata": {},
   "source": [
    "## Overfitting\n",
    "\n",
    "If we look at the training and validation losses as we train the network, we can see a phenomenon known as overfitting.\n",
    "\n",
    "<img src='assets/overfitting.png' width=450px>\n",
    "\n",
    "The network learns the training set better and better, resulting in lower training losses. However, it starts having problems generalizing to data outside the training set leading to the validation loss increasing. The ultimate goal of any deep learning model is to make predictions on new data, so we should strive to get the lowest validation loss possible. One option is to use the version of the model with the lowest validation loss, here the one around 8-10 training epochs. This strategy is called *early-stopping*. In practice, you'd save the model frequently as you're training then later choose the model with the lowest validation loss.\n",
    "\n",
    "The most common method to reduce overfitting (outside of early-stopping) is *dropout*, where we randomly drop input units. This forces the network to share information between weights, increasing it's ability to generalize to new data. Adding dropout in PyTorch is straightforward using the [`nn.Dropout`](https://pytorch.org/docs/stable/nn.html#torch.nn.Dropout) module.\n",
    "\n",
    "```python\n",
    "class Classifier(nn.Module):\n",
    "    def __init__(self):\n",
    "        super().__init__()\n",
    "        self.fc1 = nn.Linear(784, 256)\n",
    "        self.fc2 = nn.Linear(256, 128)\n",
    "        self.fc3 = nn.Linear(128, 64)\n",
    "        self.fc4 = nn.Linear(64, 10)\n",
    "        \n",
    "        # Dropout module with 0.2 drop probability\n",
    "        self.dropout = nn.Dropout(p=0.2)\n",
    "        \n",
    "    def forward(self, x):\n",
    "        # make sure input tensor is flattened\n",
    "        x = x.view(x.shape[0], -1)\n",
    "        \n",
    "        # Now with dropout\n",
    "        x = self.dropout(F.relu(self.fc1(x)))\n",
    "        x = self.dropout(F.relu(self.fc2(x)))\n",
    "        x = self.dropout(F.relu(self.fc3(x)))\n",
    "        \n",
    "        # output so no dropout here\n",
    "        x = F.log_softmax(self.fc4(x), dim=1)\n",
    "        \n",
    "        return x\n",
    "```\n",
    "\n",
    "During training we want to use dropout to prevent overfitting, but during inference we want to use the entire network. So, we need to turn off dropout during validation, testing, and whenever we're using the network to make predictions. To do this, you use `model.eval()`. This sets the model to evaluation mode where the dropout probability is 0. You can turn dropout back on by setting the model to train mode with `model.train()`. In general, the pattern for the validation loop will look like this, where you turn off gradients, set the model to evaluation mode, calculate the validation loss and metric, then set the model back to train mode.\n",
    "\n",
    "```python\n",
    "# turn off gradients\n",
    "with torch.no_grad():\n",
    "    \n",
    "    # set model to evaluation mode\n",
    "    model.eval()\n",
    "    \n",
    "    # validation pass here\n",
    "    for images, labels in testloader:\n",
    "        ...\n",
    "\n",
    "# set model back to train mode\n",
    "model.train()\n",
    "```"
   ]
  },
  {
   "cell_type": "markdown",
   "metadata": {},
   "source": [
    "> **Exercise:** Add dropout to your model and train it on Fashion-MNIST again. See if you can get a lower validation loss or higher accuracy."
   ]
  },
  {
   "cell_type": "code",
   "execution_count": 8,
   "metadata": {},
   "outputs": [],
   "source": [
    "## TODO: Define your model with dropout added\n",
    "class MyNNClassifier(nn.Module):\n",
    "    def __init__(self):\n",
    "        super().__init__()\n",
    "        self.f1 = nn.Linear(784,256)\n",
    "        self.f2 = nn.Linear(256,128)\n",
    "        self.f3 = nn.Linear(128,64)\n",
    "        self.f4 = nn.Linear(64,10)\n",
    "        \n",
    "        self.dropout = nn.Dropout(p=0.2)\n",
    "        \n",
    "    def forward(self, x):\n",
    "        x = F.relu(self.f1(x))\n",
    "        x = self.dropout(x)\n",
    "        x = F.relu(self.f2(x))\n",
    "        x = self.dropout(x)\n",
    "        x = F.relu(self.f3(x))\n",
    "        x = self.dropout(x)\n",
    "        x = F.log_softmax(self.f4(x), dim=1)\n",
    "        \n",
    "        return x"
   ]
  },
  {
   "cell_type": "code",
   "execution_count": 16,
   "metadata": {},
   "outputs": [
    {
     "name": "stdout",
     "output_type": "stream",
     "text": [
      "Training Loss: 0.7888103640282841, Validation Accuracy: 0.8029458522796631\n",
      "Training Loss: 0.72516708809938, Validation Accuracy: 0.8018510937690735\n",
      "Training Loss: 0.6941448134272846, Validation Accuracy: 0.8227508068084717\n",
      "Training Loss: 0.7119533400228029, Validation Accuracy: 0.8048368096351624\n",
      "Training Loss: 0.6976689414174826, Validation Accuracy: 0.8146895170211792\n",
      "Training Loss: 0.7044348562322954, Validation Accuracy: 0.7956807613372803\n",
      "Training Loss: 0.7138448752828245, Validation Accuracy: 0.8062300682067871\n",
      "Training Loss: 0.7012015849288339, Validation Accuracy: 0.8215565085411072\n",
      "Training Loss: 0.7314577095035805, Validation Accuracy: 0.8227508068084717\n",
      "Training Loss: 0.676547049332275, Validation Accuracy: 0.8011544346809387\n",
      "Training Loss: 0.7158757987688346, Validation Accuracy: 0.7950835824012756\n",
      "Training Loss: 0.7676667792837757, Validation Accuracy: 0.8108081221580505\n",
      "Training Loss: 0.7356030909555045, Validation Accuracy: 0.8162818551063538\n",
      "Training Loss: 0.7374508540068608, Validation Accuracy: 0.8083200454711914\n",
      "Training Loss: 0.7281681086653585, Validation Accuracy: 0.8075239062309265\n",
      "Training Loss: 0.734869002755771, Validation Accuracy: 0.8226512670516968\n",
      "Training Loss: 0.7050379943301175, Validation Accuracy: 0.8016520738601685\n",
      "Training Loss: 0.692351886712666, Validation Accuracy: 0.7908041477203369\n",
      "Training Loss: 0.7444341434662276, Validation Accuracy: 0.799960196018219\n",
      "Training Loss: 0.698129024110369, Validation Accuracy: 0.7998606562614441\n",
      "Training Loss: 0.7772205785266372, Validation Accuracy: 0.7954816818237305\n",
      "Training Loss: 0.7265595917000192, Validation Accuracy: 0.8222531676292419\n",
      "Training Loss: 0.7535789976877444, Validation Accuracy: 0.787420392036438\n",
      "Training Loss: 0.734612965348687, Validation Accuracy: 0.809215784072876\n",
      "Training Loss: 0.7306807435143476, Validation Accuracy: 0.7949841022491455\n",
      "Training Loss: 0.7764718995483191, Validation Accuracy: 0.784335196018219\n",
      "Training Loss: 0.7228035093751798, Validation Accuracy: 0.8072253465652466\n",
      "Training Loss: 0.742701185092743, Validation Accuracy: 0.7181528806686401\n",
      "Training Loss: 0.7984390476428623, Validation Accuracy: 0.7895103693008423\n",
      "Training Loss: 0.6818362361014779, Validation Accuracy: 0.7240246534347534\n"
     ]
    }
   ],
   "source": [
    "## TODO: Train your model with dropout, and monitor the training progress with the validation loss and accuracy\n",
    "\n",
    "model = MyNNClassifier()\n",
    "\n",
    "criterion = nn.NLLLoss()\n",
    "optimizer = optim.Adam(model.parameters(),lr=0.01)\n",
    "\n",
    "epoch = 30\n",
    "for e in range(epoch):\n",
    "    running_loss = 0\n",
    "    model.train()\n",
    "    for images, labels in trainloader:\n",
    "        optimizer.zero_grad()\n",
    "        \n",
    "        logits = model(images.view((images.shape[0],-1)))\n",
    "        loss = criterion(logits, labels)\n",
    "        \n",
    "        loss.backward()\n",
    "        optimizer.step()\n",
    "        \n",
    "        running_loss += loss.item()\n",
    "        \n",
    "        _,classes = logits.topk(1,dim=1)\n",
    "    \n",
    "    else:\n",
    "        accuracy = 0\n",
    "        model.eval()\n",
    "        with torch.no_grad():\n",
    "            correct = 0\n",
    "            for images, labels in testloader:\n",
    "                pred = model(images.view(images.shape[0], -1))\n",
    "                \n",
    "                _, top1 = pred.topk(1, dim=1)\n",
    "                \n",
    "                equal = (top1==labels.view(top1.shape))\n",
    "                accuracy += torch.mean(equal.type(torch.FloatTensor))\n",
    "\n",
    "        print('Training Loss: {}, Validation Accuracy: {}'.format(running_loss*1./len(trainloader), accuracy*1./len(testloader)))"
   ]
  },
  {
   "cell_type": "markdown",
   "metadata": {},
   "source": [
    "## Inference\n",
    "\n",
    "Now that the model is trained, we can use it for inference. We've done this before, but now we need to remember to set the model in inference mode with `model.eval()`. You'll also want to turn off autograd with the `torch.no_grad()` context."
   ]
  },
  {
   "cell_type": "code",
   "execution_count": 17,
   "metadata": {},
   "outputs": [
    {
     "data": {
      "image/png": "[encoded data removed]",
      "text/plain": [
       "<Figure size 432x648 with 2 Axes>"
      ]
     },
     "metadata": {
      "needs_background": "light"
     },
     "output_type": "display_data"
    },
    {
     "data": {
      "image/png": "[encoded data removed]",
      "text/plain": [
       "<Figure size 432x648 with 2 Axes>"
      ]
     },
     "metadata": {
      "needs_background": "light"
     },
     "output_type": "display_data"
    },
    {
     "data": {
      "image/png": "[encoded data removed]",
      "text/plain": [
       "<Figure size 432x648 with 2 Axes>"
      ]
     },
     "metadata": {
      "needs_background": "light"
     },
     "output_type": "display_data"
    },
    {
     "data": {
      "image/png": "[encoded data removed]",
      "text/plain": [
       "<Figure size 432x648 with 2 Axes>"
      ]
     },
     "metadata": {
      "needs_background": "light"
     },
     "output_type": "display_data"
    },
    {
     "data": {
      "image/png": "[encoded data removed]",
      "text/plain": [
       "<Figure size 432x648 with 2 Axes>"
      ]
     },
     "metadata": {
      "needs_background": "light"
     },
     "output_type": "display_data"
    },
    {
     "data": {
      "image/png": "[encoded data removed]",
      "text/plain": [
       "<Figure size 432x648 with 2 Axes>"
      ]
     },
     "metadata": {
      "needs_background": "light"
     },
     "output_type": "display_data"
    }
   ],
   "source": [
    "# Import helper module (should be in the repo)\n",
    "import helper\n",
    "\n",
    "# Test out your network!\n",
    "\n",
    "model.eval()\n",
    "\n",
    "dataiter = iter(testloader)\n",
    "images, labels = dataiter.next()\n",
    "img_list = [0,6,13,27,31,19]\n",
    "for idx in img_list:\n",
    "    img = images[idx]\n",
    "    # Convert 2D image to 1D vector\n",
    "    img = img.view(1, 784)\n",
    "\n",
    "    # Calculate the class probabilities (softmax) for img\n",
    "    with torch.no_grad():\n",
    "        output = model.forward(img)\n",
    "\n",
    "    ps = torch.exp(output)\n",
    "\n",
    "    # Plot the image and probabilities\n",
    "    helper.view_classify(img.view(1, 28, 28), ps, version='Fashion')"
   ]
  },
  {
   "cell_type": "markdown",
   "metadata": {},
   "source": [
    "## Next Up!\n",
    "\n",
    "In the next part, I'll show you how to save your trained models. In general, you won't want to train a model everytime you need it. Instead, you'll train once, save it, then load the model when you want to train more or use if for inference."
   ]
  }
 ],
 "metadata": {
  "kernelspec": {
   "display_name": "Python 3",
   "language": "python",
   "name": "python3"
  },
  "language_info": {
   "codemirror_mode": {
    "name": "ipython",
    "version": 3
   },
   "file_extension": ".py",
   "mimetype": "text/x-python",
   "name": "python",
   "nbconvert_exporter": "python",
   "pygments_lexer": "ipython3",
   "version": "3.7.6"
  }
 },
 "nbformat": 4,
 "nbformat_minor": 2
}
